{
  "nbformat": 4,
  "nbformat_minor": 0,
  "metadata": {
    "colab": {
      "provenance": []
    },
    "kernelspec": {
      "name": "python3",
      "display_name": "Python 3"
    },
    "language_info": {
      "name": "python"
    }
  },
  "cells": [
    {
      "cell_type": "code",
      "execution_count": 16,
      "metadata": {
        "colab": {
          "base_uri": "https://localhost:8080/"
        },
        "id": "4CSPJ1kinpgx",
        "outputId": "63d8b26a-e04e-4417-82c4-d21363ebf013"
      },
      "outputs": [
        {
          "output_type": "stream",
          "name": "stdout",
          "text": [
            "  GAME_DATE_EST   GAME_ID GAME_STATUS_TEXT  HOME_TEAM_ID  VISITOR_TEAM_ID  \\\n",
            "0    2022-12-22  22200477            Final    1610612740       1610612759   \n",
            "1    2022-12-22  22200478            Final    1610612762       1610612764   \n",
            "2    2022-12-21  22200466            Final    1610612739       1610612749   \n",
            "3    2022-12-21  22200467            Final    1610612755       1610612765   \n",
            "4    2022-12-21  22200468            Final    1610612737       1610612741   \n",
            "\n",
            "   SEASON  TEAM_ID_home  PTS_home  FG_PCT_home  FT_PCT_home  ...  AST_home  \\\n",
            "0    2022    1610612740     126.0        0.484        0.926  ...      25.0   \n",
            "1    2022    1610612762     120.0        0.488        0.952  ...      16.0   \n",
            "2    2022    1610612739     114.0        0.482        0.786  ...      22.0   \n",
            "3    2022    1610612755     113.0        0.441        0.909  ...      27.0   \n",
            "4    2022    1610612737     108.0        0.429        1.000  ...      22.0   \n",
            "\n",
            "   REB_home  TEAM_ID_away  PTS_away  FG_PCT_away  FT_PCT_away  FG3_PCT_away  \\\n",
            "0      46.0    1610612759     117.0        0.478        0.815         0.321   \n",
            "1      40.0    1610612764     112.0        0.561        0.765         0.333   \n",
            "2      37.0    1610612749     106.0        0.470        0.682         0.433   \n",
            "3      49.0    1610612765      93.0        0.392        0.735         0.261   \n",
            "4      47.0    1610612741     110.0        0.500        0.773         0.292   \n",
            "\n",
            "   AST_away  REB_away  HOME_TEAM_WINS  \n",
            "0      23.0      44.0               1  \n",
            "1      20.0      37.0               1  \n",
            "2      20.0      46.0               1  \n",
            "3      15.0      46.0               1  \n",
            "4      20.0      47.0               0  \n",
            "\n",
            "[5 rows x 21 columns]\n"
          ]
        }
      ],
      "source": [
        "import pandas as pd\n",
        "\n",
        "df = pd.read_csv(\"/content/nba_games.csv\")\n",
        "print(df.head())    # preview of dataset"
      ]
    },
    {
      "cell_type": "code",
      "source": [
        "# drop entire row if any missing values\n",
        "df.dropna(inplace=True)\n",
        "\n",
        "# encode 'Win' column as 1 or 0\n",
        "df[\"Win\"] = df[\"PTS_home\"] > df[\"PTS_away\"]\n",
        "df[\"Win\"] = df[\"Win\"].astype(int)\n",
        "\n",
        "# select features\n",
        "features = [\"FG_PCT_home\", \"FG_PCT_away\", \"REB_home\", \"AST_home\"]\n",
        "X = df[features]\n",
        "y = df[\"Win\"]\n"
      ],
      "metadata": {
        "id": "5FaDWVJGqBX-"
      },
      "execution_count": 17,
      "outputs": []
    },
    {
      "cell_type": "code",
      "source": [
        "# splitting data for training/testing\n",
        "\n",
        "from sklearn.model_selection import train_test_split\n",
        "from sklearn.ensemble import RandomForestClassifier\n",
        "from sklearn.metrics import accuracy_score\n",
        "\n",
        "# split into train/test\n",
        "X_train, X_test, y_train, y_test = train_test_split(X, y, test_size=0.2, random_state=42) # X and y i.e explanatory and response variables respectively\n",
        "\n",
        "# train the model\n",
        "model = RandomForestClassifier(n_estimators=100, random_state=34) # 100 decision trees in random forest\n",
        "model.fit(X_train, y_train)\n",
        "\n",
        "# make predictions\n",
        "y_pred = model.predict(X_test)\n",
        "\n",
        "# check accuracy\n",
        "accuracy = accuracy_score(y_test, y_pred)\n",
        "print(f\"Prediction Accuracy: {accuracy:.2f}\")\n"
      ],
      "metadata": {
        "colab": {
          "base_uri": "https://localhost:8080/"
        },
        "id": "Qv9eaCG1q0xO",
        "outputId": "4b03ba6e-a745-4da0-8cea-8f51f6f2e605"
      },
      "execution_count": 18,
      "outputs": [
        {
          "output_type": "stream",
          "name": "stdout",
          "text": [
            "Prediction Accuracy: 0.79\n"
          ]
        }
      ]
    },
    {
      "cell_type": "code",
      "source": [
        "# visual representation through confusion matrix\n",
        "\n",
        "from sklearn.metrics import ConfusionMatrixDisplay\n",
        "\n",
        "ConfusionMatrixDisplay.from_estimator(model, X_test, y_test)\n"
      ],
      "metadata": {
        "colab": {
          "base_uri": "https://localhost:8080/",
          "height": 466
        },
        "id": "rNVrSv-3rySL",
        "outputId": "84d19384-a6cb-44e2-b728-416d0d27dfd2"
      },
      "execution_count": 19,
      "outputs": [
        {
          "output_type": "execute_result",
          "data": {
            "text/plain": [
              "<sklearn.metrics._plot.confusion_matrix.ConfusionMatrixDisplay at 0x7fa836513a90>"
            ]
          },
          "metadata": {},
          "execution_count": 19
        },
        {
          "output_type": "display_data",
          "data": {
            "text/plain": [
              "<Figure size 640x480 with 2 Axes>"
            ],
            "image/png": "[encoded data removed]"
          },
          "metadata": {}
        }
      ]
    },
    {
      "cell_type": "code",
      "source": [
        "# create data frame\n",
        "\n",
        "# example matchup\n",
        "new_game = pd.DataFrame([{\n",
        "    \"FG_PCT_home\": 0.48,\n",
        "    \"FG_PCT_away\": 0.45,\n",
        "    \"REB_home\": 44,\n",
        "    \"AST_home\": 25\n",
        "}])\n",
        "\n",
        "prediction = model.predict(new_game)\n",
        "print(\"Predicted Win\" if prediction[0] == 1 else \"Predicted Loss\")\n"
      ],
      "metadata": {
        "colab": {
          "base_uri": "https://localhost:8080/"
        },
        "id": "n3cc48vKsGCg",
        "outputId": "d01580ad-da07-44d7-90bf-cae58fe7dd7e"
      },
      "execution_count": 20,
      "outputs": [
        {
          "output_type": "stream",
          "name": "stdout",
          "text": [
            "Predicted Win\n"
          ]
        }
      ]
    }
  ]
}